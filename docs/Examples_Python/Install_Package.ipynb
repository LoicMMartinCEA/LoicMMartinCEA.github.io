{
 "cells": [
  {
   "cell_type": "markdown",
   "id": "55cb90c5-c89c-4231-aedf-02bad0816424",
   "metadata": {},
   "source": [
    "## Install new Package under JupiterLab"
   ]
  },
  {
   "cell_type": "code",
   "execution_count": 3,
   "id": "c05b5dbd-29f2-430c-87d7-e4453127ddad",
   "metadata": {},
   "outputs": [
    {
     "name": "stdout",
     "output_type": "stream",
     "text": [
      "path\n",
      "/home/loicma/.cache/activestate/bin:/home/loicma/.komodoide/12.0/XRE/state:/home/loicma/.local/bin:/home/loicma/anaconda3/envs/ngs_09_2022/bin:/home/loicma/anaconda3/condabin:/usr/local/sbin:/usr/local/bin:/usr/sbin:/usr/bin:/sbin:/bin:/usr/games:/usr/local/games:/snap/bin:/usr/local/bin\n"
     ]
    },
    {
     "data": {
      "text/plain": [
       "['/home/loicma/Notebook_Python',\n",
       " '/home/loicma/.local/lib/python3.8',\n",
       " '/home/loicma/.local/bin',\n",
       " '/home/loicma/anaconda3/bin',\n",
       " '/home/loicma/anaconda3/condabin',\n",
       " '/usr/local/sbin',\n",
       " '/usr/local/bin',\n",
       " '/usr/sbin',\n",
       " '/usr/bin',\n",
       " '/sbin',\n",
       " '/bin',\n",
       " '/usr/games',\n",
       " '/usr/local/games',\n",
       " '/snap/bin',\n",
       " '/home/loicma/anaconda3/envs/ngs_09_2022/lib/python310.zip',\n",
       " '/home/loicma/anaconda3/envs/ngs_09_2022/lib/python3.10',\n",
       " '/home/loicma/anaconda3/envs/ngs_09_2022/lib/python3.10/lib-dynload',\n",
       " '',\n",
       " '/home/loicma/anaconda3/envs/ngs_09_2022/lib/python3.10/site-packages']"
      ]
     },
     "execution_count": 3,
     "metadata": {},
     "output_type": "execute_result"
    }
   ],
   "source": [
    "import sys\n",
    "!echo path\n",
    "!echo $PATH\n",
    "sys.path"
   ]
  },
  {
   "cell_type": "code",
   "execution_count": 4,
   "id": "2064f4f7-78bf-47ab-b82e-3531fbd4c8ec",
   "metadata": {},
   "outputs": [
    {
     "name": "stdout",
     "output_type": "stream",
     "text": [
      "# conda environments:\r\n",
      "#\r\n",
      "base                     /home/loicma/anaconda3\r\n",
      "alignparse-environment     /home/loicma/anaconda3/envs/alignparse-environment\r\n",
      "loic_env                 /home/loicma/anaconda3/envs/loic_env\r\n",
      "ngs_08_2022              /home/loicma/anaconda3/envs/ngs_08_2022\r\n",
      "ngs_09_2022           *  /home/loicma/anaconda3/envs/ngs_09_2022\r\n",
      "                         /home/loicma/miniconda3\r\n",
      "                         /home/loicma/miniconda3/envs/bioinfo\r\n",
      "                         /home/loicma/miniconda3/envs/simple\r\n",
      "\r\n"
     ]
    }
   ],
   "source": [
    "!conda env list "
   ]
  },
  {
   "cell_type": "code",
   "execution_count": 7,
   "id": "5768909e-2dfa-410a-a233-6590905a5b17",
   "metadata": {
    "tags": []
   },
   "outputs": [
    {
     "name": "stdout",
     "output_type": "stream",
     "text": [
      "Collecting dataframe_image\n",
      "  Downloading dataframe_image-0.1.3-py3-none-any.whl (6.6 MB)\n",
      "\u001b[2K     \u001b[38;2;114;156;31m━━━━━━━━━━━━━━━━━━━━━━━━━━━━━━━━━━━━━━━━\u001b[0m \u001b[32m6.6/6.6 MB\u001b[0m \u001b[31m42.9 MB/s\u001b[0m eta \u001b[36m0:00:00\u001b[0mm eta \u001b[36m0:00:01\u001b[0m[36m0:00:01\u001b[0m\n",
      "\u001b[?25hRequirement already satisfied: packaging in /home/loicma/anaconda3/envs/ngs_09_2022/lib/python3.10/site-packages (from dataframe_image) (21.3)\n",
      "Requirement already satisfied: beautifulsoup4 in /home/loicma/anaconda3/envs/ngs_09_2022/lib/python3.10/site-packages (from dataframe_image) (4.11.1)\n",
      "Requirement already satisfied: matplotlib>=3.1 in /home/loicma/anaconda3/envs/ngs_09_2022/lib/python3.10/site-packages (from dataframe_image) (3.5.2)\n",
      "Requirement already satisfied: pandas>=0.24 in /home/loicma/anaconda3/envs/ngs_09_2022/lib/python3.10/site-packages (from dataframe_image) (1.4.3)\n",
      "Requirement already satisfied: mistune in /home/loicma/anaconda3/envs/ngs_09_2022/lib/python3.10/site-packages (from dataframe_image) (0.8.4)\n",
      "Requirement already satisfied: requests in /home/loicma/anaconda3/envs/ngs_09_2022/lib/python3.10/site-packages (from dataframe_image) (2.28.1)\n",
      "Requirement already satisfied: nbconvert>=5 in /home/loicma/anaconda3/envs/ngs_09_2022/lib/python3.10/site-packages (from dataframe_image) (6.5.1)\n",
      "Collecting aiohttp\n",
      "  Downloading aiohttp-3.8.3-cp310-cp310-manylinux_2_17_x86_64.manylinux2014_x86_64.whl (1.0 MB)\n",
      "\u001b[2K     \u001b[38;2;114;156;31m━━━━━━━━━━━━━━━━━━━━━━━━━━━━━━━━━━━━━━━━\u001b[0m \u001b[32m1.0/1.0 MB\u001b[0m \u001b[31m61.7 MB/s\u001b[0m eta \u001b[36m0:00:00\u001b[0m\n",
      "\u001b[?25hRequirement already satisfied: cycler>=0.10 in /home/loicma/anaconda3/envs/ngs_09_2022/lib/python3.10/site-packages (from matplotlib>=3.1->dataframe_image) (0.11.0)\n",
      "Requirement already satisfied: pillow>=6.2.0 in /home/loicma/anaconda3/envs/ngs_09_2022/lib/python3.10/site-packages (from matplotlib>=3.1->dataframe_image) (9.2.0)\n",
      "Requirement already satisfied: fonttools>=4.22.0 in /home/loicma/anaconda3/envs/ngs_09_2022/lib/python3.10/site-packages (from matplotlib>=3.1->dataframe_image) (4.34.4)\n",
      "Requirement already satisfied: python-dateutil>=2.7 in /home/loicma/anaconda3/envs/ngs_09_2022/lib/python3.10/site-packages (from matplotlib>=3.1->dataframe_image) (2.8.2)\n",
      "Requirement already satisfied: numpy>=1.17 in /home/loicma/anaconda3/envs/ngs_09_2022/lib/python3.10/site-packages (from matplotlib>=3.1->dataframe_image) (1.23.1)\n",
      "Requirement already satisfied: pyparsing>=2.2.1 in /home/loicma/anaconda3/envs/ngs_09_2022/lib/python3.10/site-packages (from matplotlib>=3.1->dataframe_image) (3.0.9)\n",
      "Requirement already satisfied: kiwisolver>=1.0.1 in /home/loicma/anaconda3/envs/ngs_09_2022/lib/python3.10/site-packages (from matplotlib>=3.1->dataframe_image) (1.4.4)\n",
      "Requirement already satisfied: defusedxml in /home/loicma/anaconda3/envs/ngs_09_2022/lib/python3.10/site-packages (from nbconvert>=5->dataframe_image) (0.7.1)\n",
      "Requirement already satisfied: lxml in /home/loicma/anaconda3/envs/ngs_09_2022/lib/python3.10/site-packages (from nbconvert>=5->dataframe_image) (4.9.1)\n",
      "Requirement already satisfied: jinja2>=3.0 in /home/loicma/anaconda3/envs/ngs_09_2022/lib/python3.10/site-packages (from nbconvert>=5->dataframe_image) (3.1.2)\n",
      "Requirement already satisfied: jupyter-core>=4.7 in /home/loicma/anaconda3/envs/ngs_09_2022/lib/python3.10/site-packages (from nbconvert>=5->dataframe_image) (4.11.1)\n",
      "Requirement already satisfied: bleach in /home/loicma/anaconda3/envs/ngs_09_2022/lib/python3.10/site-packages (from nbconvert>=5->dataframe_image) (5.0.1)\n",
      "Requirement already satisfied: MarkupSafe>=2.0 in /home/loicma/anaconda3/envs/ngs_09_2022/lib/python3.10/site-packages (from nbconvert>=5->dataframe_image) (2.1.1)\n",
      "Requirement already satisfied: pygments>=2.4.1 in /home/loicma/anaconda3/envs/ngs_09_2022/lib/python3.10/site-packages (from nbconvert>=5->dataframe_image) (2.12.0)\n",
      "Requirement already satisfied: jupyterlab-pygments in /home/loicma/anaconda3/envs/ngs_09_2022/lib/python3.10/site-packages (from nbconvert>=5->dataframe_image) (0.2.2)\n",
      "Requirement already satisfied: nbclient>=0.5.0 in /home/loicma/anaconda3/envs/ngs_09_2022/lib/python3.10/site-packages (from nbconvert>=5->dataframe_image) (0.6.6)\n",
      "Requirement already satisfied: entrypoints>=0.2.2 in /home/loicma/anaconda3/envs/ngs_09_2022/lib/python3.10/site-packages (from nbconvert>=5->dataframe_image) (0.4)\n",
      "Requirement already satisfied: pandocfilters>=1.4.1 in /home/loicma/anaconda3/envs/ngs_09_2022/lib/python3.10/site-packages (from nbconvert>=5->dataframe_image) (1.5.0)\n",
      "Requirement already satisfied: traitlets>=5.0 in /home/loicma/anaconda3/envs/ngs_09_2022/lib/python3.10/site-packages (from nbconvert>=5->dataframe_image) (5.3.0)\n",
      "Requirement already satisfied: nbformat>=5.1 in /home/loicma/anaconda3/envs/ngs_09_2022/lib/python3.10/site-packages (from nbconvert>=5->dataframe_image) (5.4.0)\n",
      "Requirement already satisfied: tinycss2 in /home/loicma/anaconda3/envs/ngs_09_2022/lib/python3.10/site-packages (from nbconvert>=5->dataframe_image) (1.1.1)\n",
      "Requirement already satisfied: pytz>=2020.1 in /home/loicma/anaconda3/envs/ngs_09_2022/lib/python3.10/site-packages (from pandas>=0.24->dataframe_image) (2022.1)\n",
      "Collecting yarl<2.0,>=1.0\n",
      "  Downloading yarl-1.8.1-cp310-cp310-manylinux_2_17_x86_64.manylinux2014_x86_64.whl (263 kB)\n",
      "\u001b[2K     \u001b[38;2;114;156;31m━━━━━━━━━━━━━━━━━━━━━━━━━━━━━━━━━━━━━━\u001b[0m \u001b[32m264.0/264.0 kB\u001b[0m \u001b[31m26.7 MB/s\u001b[0m eta \u001b[36m0:00:00\u001b[0m\n",
      "\u001b[?25hRequirement already satisfied: charset-normalizer<3.0,>=2.0 in /home/loicma/anaconda3/envs/ngs_09_2022/lib/python3.10/site-packages (from aiohttp->dataframe_image) (2.1.0)\n",
      "Collecting multidict<7.0,>=4.5\n",
      "  Downloading multidict-6.0.2-cp310-cp310-manylinux_2_17_x86_64.manylinux2014_x86_64.whl (114 kB)\n",
      "\u001b[2K     \u001b[38;2;114;156;31m━━━━━━━━━━━━━━━━━━━━━━━━━━━━━━━━━━━━━━\u001b[0m \u001b[32m114.5/114.5 kB\u001b[0m \u001b[31m25.5 MB/s\u001b[0m eta \u001b[36m0:00:00\u001b[0m\n",
      "\u001b[?25hCollecting frozenlist>=1.1.1\n",
      "  Downloading frozenlist-1.3.3-cp310-cp310-manylinux_2_5_x86_64.manylinux1_x86_64.manylinux_2_17_x86_64.manylinux2014_x86_64.whl (149 kB)\n",
      "\u001b[2K     \u001b[38;2;114;156;31m━━━━━━━━━━━━━━━━━━━━━━━━━━━━━━━━━━━━━━\u001b[0m \u001b[32m149.6/149.6 kB\u001b[0m \u001b[31m31.9 MB/s\u001b[0m eta \u001b[36m0:00:00\u001b[0m\n",
      "\u001b[?25hRequirement already satisfied: attrs>=17.3.0 in /home/loicma/anaconda3/envs/ngs_09_2022/lib/python3.10/site-packages (from aiohttp->dataframe_image) (22.1.0)\n",
      "Collecting aiosignal>=1.1.2\n",
      "  Downloading aiosignal-1.3.1-py3-none-any.whl (7.6 kB)\n",
      "Collecting async-timeout<5.0,>=4.0.0a3\n",
      "  Downloading async_timeout-4.0.2-py3-none-any.whl (5.8 kB)\n",
      "Requirement already satisfied: soupsieve>1.2 in /home/loicma/anaconda3/envs/ngs_09_2022/lib/python3.10/site-packages (from beautifulsoup4->dataframe_image) (2.3.2.post1)\n",
      "Requirement already satisfied: urllib3<1.27,>=1.21.1 in /home/loicma/anaconda3/envs/ngs_09_2022/lib/python3.10/site-packages (from requests->dataframe_image) (1.26.11)\n",
      "Requirement already satisfied: certifi>=2017.4.17 in /home/loicma/anaconda3/envs/ngs_09_2022/lib/python3.10/site-packages (from requests->dataframe_image) (2022.6.15)\n",
      "Requirement already satisfied: idna<4,>=2.5 in /home/loicma/anaconda3/envs/ngs_09_2022/lib/python3.10/site-packages (from requests->dataframe_image) (3.3)\n",
      "Requirement already satisfied: jupyter-client>=6.1.5 in /home/loicma/anaconda3/envs/ngs_09_2022/lib/python3.10/site-packages (from nbclient>=0.5.0->nbconvert>=5->dataframe_image) (7.3.4)\n",
      "Requirement already satisfied: nest-asyncio in /home/loicma/anaconda3/envs/ngs_09_2022/lib/python3.10/site-packages (from nbclient>=0.5.0->nbconvert>=5->dataframe_image) (1.5.5)\n",
      "Requirement already satisfied: jsonschema>=2.6 in /home/loicma/anaconda3/envs/ngs_09_2022/lib/python3.10/site-packages (from nbformat>=5.1->nbconvert>=5->dataframe_image) (4.9.1)\n",
      "Requirement already satisfied: fastjsonschema in /home/loicma/anaconda3/envs/ngs_09_2022/lib/python3.10/site-packages (from nbformat>=5.1->nbconvert>=5->dataframe_image) (2.16.1)\n",
      "Requirement already satisfied: six>=1.5 in /home/loicma/anaconda3/envs/ngs_09_2022/lib/python3.10/site-packages (from python-dateutil>=2.7->matplotlib>=3.1->dataframe_image) (1.16.0)\n",
      "Requirement already satisfied: webencodings in /home/loicma/anaconda3/envs/ngs_09_2022/lib/python3.10/site-packages (from bleach->nbconvert>=5->dataframe_image) (0.5.1)\n"
     ]
    },
    {
     "name": "stdout",
     "output_type": "stream",
     "text": [
      "Requirement already satisfied: pyrsistent!=0.17.0,!=0.17.1,!=0.17.2,>=0.14.0 in /home/loicma/anaconda3/envs/ngs_09_2022/lib/python3.10/site-packages (from jsonschema>=2.6->nbformat>=5.1->nbconvert>=5->dataframe_image) (0.18.1)\n",
      "Requirement already satisfied: tornado>=6.0 in /home/loicma/anaconda3/envs/ngs_09_2022/lib/python3.10/site-packages (from jupyter-client>=6.1.5->nbclient>=0.5.0->nbconvert>=5->dataframe_image) (6.2)\n",
      "Requirement already satisfied: pyzmq>=23.0 in /home/loicma/anaconda3/envs/ngs_09_2022/lib/python3.10/site-packages (from jupyter-client>=6.1.5->nbclient>=0.5.0->nbconvert>=5->dataframe_image) (23.2.0)\n",
      "Installing collected packages: multidict, frozenlist, async-timeout, yarl, aiosignal, aiohttp, dataframe_image\n",
      "Successfully installed aiohttp-3.8.3 aiosignal-1.3.1 async-timeout-4.0.2 dataframe_image-0.1.3 frozenlist-1.3.3 multidict-6.0.2 yarl-1.8.1\n"
     ]
    }
   ],
   "source": [
    "!{sys.executable} -m pip install dataframe_image"
   ]
  },
  {
   "cell_type": "code",
   "execution_count": 26,
   "id": "26cc7b24-45c3-41e6-bfd7-c4736d9911c4",
   "metadata": {},
   "outputs": [
    {
     "name": "stderr",
     "output_type": "stream",
     "text": [
      "Error executing Jupyter command 'labextension': [WinError 5] Accès refusé\n"
     ]
    }
   ],
   "source": [
    "!jupyter labextension list"
   ]
  },
  {
   "cell_type": "code",
   "execution_count": 13,
   "id": "f8411cdc",
   "metadata": {},
   "outputs": [
    {
     "name": "stderr",
     "output_type": "stream",
     "text": [
      "\n",
      "UnavailableInvalidChannel: The channel is not accessible or is invalid.\n",
      "  channel name: notebook>=5.3\n",
      "  channel url: https://conda.anaconda.org/notebook>=5.3\n",
      "  error code: 404\n",
      "\n",
      "You will need to adjust your conda configuration to proceed.\n",
      "Use `conda config --show channels` to view your configuration's current state,\n",
      "and use `conda config --show-sources` to view config file locations.\n",
      "\n",
      "\n"
     ]
    },
    {
     "name": "stdout",
     "output_type": "stream",
     "text": [
      "Collecting package metadata (current_repodata.json): ...working... failed\n"
     ]
    }
   ],
   "source": [
    "!conda install -c \"notebook>=5.3\" \"ipywidgets>=7.5\""
   ]
  },
  {
   "cell_type": "code",
   "execution_count": 8,
   "id": "e338b6d3-088e-4bd5-9a91-756356a62e43",
   "metadata": {},
   "outputs": [
    {
     "name": "stdout",
     "output_type": "stream",
     "text": [
      "^C\n"
     ]
    }
   ],
   "source": [
    "#!conda install -c conda-forge nodejs"
   ]
  },
  {
   "cell_type": "code",
   "execution_count": 11,
   "id": "2c5b567c-1d06-4b0e-84b0-7d0204817827",
   "metadata": {},
   "outputs": [
    {
     "name": "stdout",
     "output_type": "stream",
     "text": [
      "^C\n"
     ]
    }
   ],
   "source": [
    "#!conda install nodejs"
   ]
  },
  {
   "cell_type": "code",
   "execution_count": 12,
   "id": "47b8bfd1-8d8c-4791-97eb-ca20d392ffe6",
   "metadata": {},
   "outputs": [
    {
     "name": "stderr",
     "output_type": "stream",
     "text": [
      "Error executing Jupyter command 'lab': [WinError 5] Accès refusé\n"
     ]
    }
   ],
   "source": [
    "#!jupyter lab build"
   ]
  },
  {
   "cell_type": "code",
   "execution_count": 13,
   "id": "cb59fe7c-d494-40f4-9f00-d145b9db20d3",
   "metadata": {},
   "outputs": [
    {
     "name": "stderr",
     "output_type": "stream",
     "text": [
      "Error executing Jupyter command 'labextension': [WinError 5] Accès refusé\n"
     ]
    }
   ],
   "source": [
    "!jupyter labextension install jupyterlab-drawio"
   ]
  },
  {
   "cell_type": "code",
   "execution_count": 4,
   "id": "c9342f04-6a75-4e99-a101-05670b6a2ff0",
   "metadata": {},
   "outputs": [
    {
     "name": "stderr",
     "output_type": "stream",
     "text": [
      "[W:pyppeteer.chromium_downloader] Starting Chromium download. Download may take a few minutes.\n",
      "\n",
      "  0%|          | 0.00/137M [00:00<?, ?b/s]\n",
      "  7%|6         | 9.12M/137M [00:00<00:01, 83.5Mb/s]\n",
      " 17%|#6        | 22.7M/137M [00:00<00:01, 107Mb/s] \n",
      " 24%|##4       | 33.4M/137M [00:00<00:01, 103Mb/s]\n",
      " 32%|###2      | 44.3M/137M [00:00<00:00, 102Mb/s]\n",
      " 41%|####      | 55.5M/137M [00:00<00:00, 104Mb/s]\n",
      " 50%|####9     | 67.9M/137M [00:00<00:00, 107Mb/s]\n",
      " 58%|#####7    | 79.1M/137M [00:00<00:00, 106Mb/s]\n",
      " 68%|######8   | 93.6M/137M [00:00<00:00, 114Mb/s]\n",
      " 77%|#######6  | 105M/137M [00:00<00:00, 111Mb/s] \n",
      " 85%|########4 | 116M/137M [00:01<00:00, 104Mb/s]\n",
      " 93%|#########2| 127M/137M [00:01<00:00, 102Mb/s]\n",
      "100%|##########| 137M/137M [00:01<00:00, 109Mb/s]\n",
      "[W:pyppeteer.chromium_downloader] Chromium download done.\n",
      "[W:pyppeteer.chromium_downloader] chromium extracted to: C:\\Users\\LM167708\\AppData\\Local\\pyppeteer\\pyppeteer\\local-chromium\\588429\n"
     ]
    }
   ],
   "source": [
    "#!pyppeteer-install"
   ]
  },
  {
   "cell_type": "markdown",
   "id": "eabb61c4-3680-447c-b457-7459a7546338",
   "metadata": {},
   "source": [
    "## Sauvegarder en format HTML un fichier s'appelant \"Install_Package.ipynb\""
   ]
  },
  {
   "cell_type": "code",
   "execution_count": 6,
   "id": "af483cf8-30c2-4078-8c27-6bdffe36776e",
   "metadata": {},
   "outputs": [
    {
     "name": "stderr",
     "output_type": "stream",
     "text": [
      "[NbConvertApp] Converting notebook Install_Package.ipynb to html\n",
      "[NbConvertApp] Writing 591292 bytes to Install_Package.html\n"
     ]
    }
   ],
   "source": [
    "!jupyter nbconvert --execute --to html Install_Package.ipynb"
   ]
  },
  {
   "cell_type": "markdown",
   "id": "16fb2fb0-1c89-4730-aaf9-520e39c71294",
   "metadata": {},
   "source": [
    "### Pour l'instant, je n'arrive pas à exporter en pdf"
   ]
  },
  {
   "cell_type": "code",
   "execution_count": null,
   "id": "db3fcec2-926c-4038-b3c2-5f92bbc9bb3a",
   "metadata": {},
   "outputs": [],
   "source": [
    "#!jupyter nbconvert --execute --to pdfviahtml Install_Package.ipynb"
   ]
  },
  {
   "cell_type": "code",
   "execution_count": 1,
   "id": "5ade1e80-1451-4b20-b9c6-e6d19dcf5e2d",
   "metadata": {},
   "outputs": [
    {
     "data": {
      "application/javascript": [
       "IPython.notebook.save_notebook()\n"
      ],
      "text/plain": [
       "<IPython.core.display.Javascript object>"
      ]
     },
     "metadata": {},
     "output_type": "display_data"
    }
   ],
   "source": [
    "#%%javascript\n",
    "#IPython.notebook.save_notebook()"
   ]
  },
  {
   "cell_type": "code",
   "execution_count": null,
   "id": "4da478c0-ca1a-45b6-9a8f-4c9c3876e452",
   "metadata": {},
   "outputs": [],
   "source": []
  }
 ],
 "metadata": {
  "kernelspec": {
   "display_name": "Python 3 (ipykernel)",
   "language": "python",
   "name": "python3"
  },
  "language_info": {
   "codemirror_mode": {
    "name": "ipython",
    "version": 3
   },
   "file_extension": ".py",
   "mimetype": "text/x-python",
   "name": "python",
   "nbconvert_exporter": "python",
   "pygments_lexer": "ipython3",
   "version": "3.10.5"
  }
 },
 "nbformat": 4,
 "nbformat_minor": 5
}
